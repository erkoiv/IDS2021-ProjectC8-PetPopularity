{
 "cells": [
  {
   "cell_type": "markdown",
   "metadata": {},
   "source": [
    "# Basic approach with pet-pularity dataset"
   ]
  },
  {
   "cell_type": "markdown",
   "metadata": {},
   "source": [
    "**Steps:**\n",
    "    \n",
    "**1. Loading the data**\n",
    "\n",
    "**2. Divide the dataset into train, validation and test set**\n",
    "\n",
    "**3. Train models with the train set and validate with validation set for multiple models and calualte erros**\n",
    "**4. Finally test with test set and calculate errors**\n"
   ]
  },
  {
   "cell_type": "code",
   "execution_count": 6,
   "metadata": {},
   "outputs": [],
   "source": [
    "#Lodaing the data\n",
    "import pandas as pd\n",
    "df = pd.read_csv(\"./Dataset/train.csv\")\n"
   ]
  },
  {
   "cell_type": "code",
   "execution_count": 35,
   "metadata": {},
   "outputs": [
    {
     "data": {
      "text/plain": [
       "['Overall: 80-100 :5.831315577078289 ; 50-80 :15.546811945117032 ; 30-50 :39.497578692493946 ; 0-30 :39.12429378531073',\n",
       " 'Subject Focus: 80-100 :4.744525547445255 ; 50-80 :16.78832116788321 ; 30-50 :37.22627737226277 ; 0-30 :41.24087591240876',\n",
       " 'Eyes: 80-100 :5.654217811439018 ; 50-80 :15.33037346565683 ; 30-50 :40.258553147035784 ; 0-30 :38.75685557586837',\n",
       " 'Face: 80-100 :5.78125 ; 50-80 :15.602678571428571 ; 30-50 :39.97767857142857 ; 0-30 :38.638392857142854',\n",
       " 'Near: 80-100 :5.983606557377049 ; 50-80 :15.421545667447306 ; 30-50 :39.285714285714285 ; 0-30 :39.30913348946136',\n",
       " 'Action: 80-100 :6.0606060606060606 ; 50-80 :14.14141414141414 ; 30-50 :42.42424242424242 ; 0-30 :37.37373737373738',\n",
       " 'Accessory: 80-100 :6.25 ; 50-80 :16.36904761904762 ; 30-50 :39.58333333333333 ; 0-30 :37.797619047619044',\n",
       " 'Group: 80-100 :5.694227769110764 ; 50-80 :16.926677067082682 ; 30-50 :42.043681747269886 ; 0-30 :35.33541341653666',\n",
       " 'Collage: 80-100 :5.487804878048781 ; 50-80 :15.24390243902439 ; 30-50 :40.853658536585364 ; 0-30 :38.41463414634146',\n",
       " 'Human: 80-100 :5.461165048543689 ; 50-80 :16.201456310679614 ; 30-50 :41.383495145631066 ; 0-30 :36.953883495145625',\n",
       " 'Occlusion: 80-100 :4.926686217008798 ; 50-80 :15.542521994134898 ; 30-50 :43.401759530791786 ; 0-30 :36.12903225806451',\n",
       " 'Info: 80-100 :5.601317957166392 ; 50-80 :13.838550247116968 ; 30-50 :43.163097199341024 ; 0-30 :37.39703459637562',\n",
       " 'Blur: 80-100 :5.157593123209169 ; 50-80 :14.183381088825215 ; 30-50 :37.82234957020057 ; 0-30 :42.83667621776504']"
      ]
     },
     "execution_count": 35,
     "metadata": {},
     "output_type": "execute_result"
    }
   ],
   "source": [
    "#Tryout different features 1 or 0 and then check the score percentage falls between 80-100, 50-80, 30-50, 0-30\n",
    "#Keep results in a list\n",
    "results = []\n",
    "def calculateDist(df_under_test):\n",
    "    countEightyToHundred = df_under_test[df_under_test['Pawpularity'] >=80].shape[0]\n",
    "    countFiftyToEighty = df_under_test[(df_under_test['Pawpularity'] >=50) & (df_under_test['Pawpularity'] <80)].shape[0]\n",
    "    countThirtyToFifty = df_under_test[(df_under_test['Pawpularity'] >=30) & (df_under_test['Pawpularity'] <50)].shape[0]\n",
    "    countLessThanThirty = df_under_test[df_under_test['Pawpularity'] <30].shape[0]\n",
    "    perCount1 = (countEightyToHundred/df_under_test.shape[0])*100\n",
    "    perCount2 = (countFiftyToEighty/df_under_test.shape[0])*100\n",
    "    perCount3 = (countThirtyToFifty/df_under_test.shape[0])*100\n",
    "    perCount4 = (countLessThanThirty/df_under_test.shape[0])*100\n",
    "    \n",
    "    return \"80-100 :\" + str(perCount1) + ' ; ' + \"50-80 :\" + str(perCount2)+ ' ; ' + \"30-50 :\" + str(perCount3)+ ' ; ' +\"0-30 :\" + str(perCount4)\n",
    "\n",
    "\n",
    "#Overall\n",
    "df_dummy = df\n",
    "results.append(\"Overall: \" + calculateDist(df_dummy))\n",
    "\n",
    "sub_1 = df_dummy[df_dummy['Subject Focus']==1]\n",
    "results.append(\"Subject Focus: \" + calculateDist(sub_1))\n",
    "\n",
    "eyes_1 = df_dummy[df_dummy['Eyes']==1]\n",
    "results.append(\"Eyes: \" + calculateDist(eyes_1))\n",
    "\n",
    "face_1 = df_dummy[df_dummy['Face']==1]\n",
    "results.append(\"Face: \" + calculateDist(face_1))\n",
    "\n",
    "near_1 = df_dummy[df_dummy['Near']==1]\n",
    "results.append(\"Near: \" + calculateDist(near_1))\n",
    "\n",
    "action_1 = df_dummy[df_dummy['Action']==1]\n",
    "results.append(\"Action: \" + calculateDist(action_1))\n",
    "\n",
    "accessory_1 = df_dummy[df_dummy['Accessory']==1]\n",
    "results.append(\"Accessory: \" + calculateDist(accessory_1))\n",
    "\n",
    "group_1 = df_dummy[df_dummy['Group']==1]\n",
    "results.append(\"Group: \" + calculateDist(group_1))\n",
    "\n",
    "collage_1 = df_dummy[df_dummy['Collage']==1]\n",
    "results.append(\"Collage: \" + calculateDist(collage_1))\n",
    "            \n",
    "human_1 = df_dummy[df_dummy['Human']==1]\n",
    "results.append(\"Human: \" + calculateDist(human_1))\n",
    "\n",
    "occlusion_1 = df_dummy[df_dummy['Occlusion']==1]\n",
    "results.append(\"Occlusion: \" + calculateDist(occlusion_1))\n",
    "\n",
    "info_1 = df_dummy[df_dummy['Info']==1]\n",
    "results.append(\"Info: \" + calculateDist(info_1))\n",
    "\n",
    "blur_1 = df_dummy[df_dummy['Blur']==1]\n",
    "results.append(\"Blur: \" + calculateDist(blur_1))\n",
    "\n",
    "results"
   ]
  },
  {
   "cell_type": "code",
   "execution_count": null,
   "metadata": {},
   "outputs": [],
   "source": [
    "# Including accessory tends to increase score\n",
    "# Focus and Blur provides score biased towards 0-30\n",
    "# Group pictures lies between mid (30-80)"
   ]
  },
  {
   "cell_type": "code",
   "execution_count": 36,
   "metadata": {},
   "outputs": [],
   "source": [
    "#Divide the dataset with 80% train, 10% validation and 10% test\n",
    "from sklearn.model_selection import train_test_split\n",
    "\n",
    "train_size = 0.8\n",
    "X = df.drop(columns = ['Pawpularity']).copy()\n",
    "y = df['Pawpularity']\n",
    "\n",
    "# In the first step we will split the data in training and remaining dataset\n",
    "X_train, X_rem, y_train, y_rem = train_test_split(X,y, train_size=0.8)\n",
    "\n",
    "# Now since we want the valid and test size to be equal (10% each of overall data). \n",
    "# we have to define valid_size=0.5 (that is 50% of remaining data)\n",
    "test_size = 0.5\n",
    "X_valid, X_test, y_valid, y_test = train_test_split(X_rem,y_rem, test_size=0.5)\n"
   ]
  },
  {
   "cell_type": "code",
   "execution_count": 144,
   "metadata": {},
   "outputs": [
    {
     "data": {
      "text/plain": [
       "{0: 'KNN Accessory :23.432213244975863'}"
      ]
     },
     "execution_count": 144,
     "metadata": {},
     "output_type": "execute_result"
    }
   ],
   "source": [
    "#Train model with accessory first then with Blur & Focus\n",
    "predictions= {}\n",
    "\n",
    "from sklearn.neighbors import KNeighborsClassifier\n",
    "#from sklearn.metrics import accuracy_score\n",
    "from sklearn.metrics import mean_squared_error\n",
    "\n",
    "classifier = KNeighborsClassifier(n_neighbors=8)\n",
    "classifier.fit(X_train['Accessory'].values.reshape(-1,1), y_train)\n",
    "y_predict = classifier.predict(X_valid['Accessory'].values.reshape(-1,1))\n",
    "predictions[0] = \"KNN Accessory :\" + str(mean_squared_error(y_valid, y_predict, squared=False))\n",
    "\n",
    "predictions"
   ]
  },
  {
   "cell_type": "code",
   "execution_count": 145,
   "metadata": {},
   "outputs": [
    {
     "data": {
      "text/plain": [
       "{0: 'KNN Accessory :23.432213244975863', 1: 'KNN Blur :22.222773566430988'}"
      ]
     },
     "execution_count": 145,
     "metadata": {},
     "output_type": "execute_result"
    }
   ],
   "source": [
    "#Blur KNN\n",
    "classifier = KNeighborsClassifier(n_neighbors=2)\n",
    "classifier.fit(X_train['Blur'].values.reshape(-1,1), y_train)\n",
    "y_predict = classifier.predict(X_valid['Blur'].values.reshape(-1,1))\n",
    "predictions[1] = \"KNN Blur :\" + str(mean_squared_error(y_valid, y_predict, squared=False))\n",
    "predictions"
   ]
  },
  {
   "cell_type": "code",
   "execution_count": 146,
   "metadata": {},
   "outputs": [
    {
     "data": {
      "text/plain": [
       "{0: 'KNN Accessory :23.432213244975863',\n",
       " 1: 'KNN Blur :22.222773566430988',\n",
       " 2: 'KNN Subject Focus :64.2222506402233'}"
      ]
     },
     "execution_count": 146,
     "metadata": {},
     "output_type": "execute_result"
    }
   ],
   "source": [
    "classifier = KNeighborsClassifier(n_neighbors=6)\n",
    "classifier.fit(X_train['Subject Focus'].values.reshape(-1,1), y_train)\n",
    "y_predict = classifier.predict(X_valid['Subject Focus'].values.reshape(-1,1))\n",
    "predictions[2] = \"KNN Subject Focus :\" + str(mean_squared_error(y_valid, y_predict, squared=False))\n",
    "predictions"
   ]
  },
  {
   "cell_type": "code",
   "execution_count": 147,
   "metadata": {},
   "outputs": [
    {
     "data": {
      "text/plain": [
       "{0: 'KNN Accessory :23.432213244975863',\n",
       " 1: 'KNN Blur :22.222773566430988',\n",
       " 2: 'KNN Subject Focus :64.2222506402233',\n",
       " 3: 'KNN ALL :31.743866455075363'}"
      ]
     },
     "execution_count": 147,
     "metadata": {},
     "output_type": "execute_result"
    }
   ],
   "source": [
    "features = ['Subject Focus','Eyes','Face','Near','Action','Accessory', 'Group', 'Collage', 'Human', 'Occlusion', 'Info', 'Blur']\n",
    "\n",
    "classifier = KNeighborsClassifier(n_neighbors=7)\n",
    "classifier.fit(X_train[features], y_train)\n",
    "y_predict = classifier.predict(X_valid[features])\n",
    "predictions[3] = \"KNN ALL :\" + str(mean_squared_error(y_valid, y_predict, squared=False))\n",
    "predictions"
   ]
  },
  {
   "cell_type": "code",
   "execution_count": 148,
   "metadata": {},
   "outputs": [
    {
     "data": {
      "text/plain": [
       "{0: 'KNN Accessory :23.432213244975863',\n",
       " 1: 'KNN Blur :22.222773566430988',\n",
       " 2: 'KNN Subject Focus :64.2222506402233',\n",
       " 3: 'KNN ALL :31.743866455075363',\n",
       " 4: 'KNN Subject Focus, Accessory, Blur :23.251878389449306'}"
      ]
     },
     "execution_count": 148,
     "metadata": {},
     "output_type": "execute_result"
    }
   ],
   "source": [
    "features = ['Subject Focus','Accessory', 'Blur']\n",
    "\n",
    "classifier = KNeighborsClassifier(n_neighbors=7)\n",
    "classifier.fit(X_train[features], y_train)\n",
    "y_predict = classifier.predict(X_valid[features])\n",
    "predictions[4] = \"KNN Subject Focus, Accessory, Blur :\" + str(mean_squared_error(y_valid, y_predict, squared=False))\n",
    "predictions"
   ]
  },
  {
   "cell_type": "code",
   "execution_count": 149,
   "metadata": {},
   "outputs": [
    {
     "data": {
      "text/plain": [
       "{0: 'KNN Accessory :23.432213244975863',\n",
       " 1: 'KNN Blur :22.222773566430988',\n",
       " 2: 'KNN Subject Focus :64.2222506402233',\n",
       " 3: 'KNN ALL :31.743866455075363',\n",
       " 4: 'KNN Subject Focus, Accessory, Blur :23.251878389449306',\n",
       " 5: 'RandomForest ALL :24.57062146040582'}"
      ]
     },
     "execution_count": 149,
     "metadata": {},
     "output_type": "execute_result"
    }
   ],
   "source": [
    "# Try other models\n",
    "features = ['Subject Focus','Eyes','Face','Near','Action','Accessory', 'Group', 'Collage', 'Human', 'Occlusion', 'Info', 'Blur']\n",
    "from sklearn.ensemble import RandomForestClassifier\n",
    "clf = RandomForestClassifier(max_depth=5, random_state=0)\n",
    "clf.fit(X_train[features], y_train)\n",
    "y_predict = clf.predict(X_valid[features])\n",
    "predictions[5] = \"RandomForest ALL :\" + str(mean_squared_error(y_valid, y_predict, squared=False))\n",
    "predictions"
   ]
  },
  {
   "cell_type": "code",
   "execution_count": 150,
   "metadata": {},
   "outputs": [
    {
     "data": {
      "text/plain": [
       "{0: 'KNN Accessory :23.432213244975863',\n",
       " 1: 'KNN Blur :22.222773566430988',\n",
       " 2: 'KNN Subject Focus :64.2222506402233',\n",
       " 3: 'KNN ALL :31.743866455075363',\n",
       " 4: 'KNN Subject Focus, Accessory, Blur :23.251878389449306',\n",
       " 5: 'RandomForest ALL :24.57062146040582',\n",
       " 6: 'RandomForest Subject Focus :22.354541591540436'}"
      ]
     },
     "execution_count": 150,
     "metadata": {},
     "output_type": "execute_result"
    }
   ],
   "source": [
    "#Subject Focus\n",
    "clf = RandomForestClassifier(max_depth=5, random_state=0)\n",
    "clf.fit(X_train[features[0]].values.reshape(-1,1), y_train)\n",
    "y_predict = clf.predict(X_valid[features[0]].values.reshape(-1,1))\n",
    "predictions[6] = \"RandomForest Subject Focus :\" + str(mean_squared_error(y_valid, y_predict, squared=False))\n",
    "predictions"
   ]
  },
  {
   "cell_type": "code",
   "execution_count": 151,
   "metadata": {},
   "outputs": [
    {
     "data": {
      "text/plain": [
       "{0: 'KNN Accessory :23.432213244975863',\n",
       " 1: 'KNN Blur :22.222773566430988',\n",
       " 2: 'KNN Subject Focus :64.2222506402233',\n",
       " 3: 'KNN ALL :31.743866455075363',\n",
       " 4: 'KNN Subject Focus, Accessory, Blur :23.251878389449306',\n",
       " 5: 'RandomForest ALL :24.57062146040582',\n",
       " 6: 'RandomForest Subject Focus :22.354541591540436',\n",
       " 7: 'RandomForest Accessories :22.449045341184895'}"
      ]
     },
     "execution_count": 151,
     "metadata": {},
     "output_type": "execute_result"
    }
   ],
   "source": [
    "#Accessories\n",
    "clf = RandomForestClassifier(max_depth=5, random_state=0)\n",
    "clf.fit(X_train[features[5]].values.reshape(-1,1), y_train)\n",
    "y_predict = clf.predict(X_valid[features[5]].values.reshape(-1,1))\n",
    "predictions[7] = \"RandomForest Accessories :\" + str(mean_squared_error(y_valid, y_predict, squared=False))\n",
    "predictions"
   ]
  },
  {
   "cell_type": "code",
   "execution_count": 152,
   "metadata": {},
   "outputs": [
    {
     "data": {
      "text/plain": [
       "{0: 'KNN Accessory :23.432213244975863',\n",
       " 1: 'KNN Blur :22.222773566430988',\n",
       " 2: 'KNN Subject Focus :64.2222506402233',\n",
       " 3: 'KNN ALL :31.743866455075363',\n",
       " 4: 'KNN Subject Focus, Accessory, Blur :23.251878389449306',\n",
       " 5: 'RandomForest ALL :24.57062146040582',\n",
       " 6: 'RandomForest Subject Focus :22.354541591540436',\n",
       " 7: 'RandomForest Accessories :22.449045341184895',\n",
       " 8: 'RandomForest Blur :22.60557694421506'}"
      ]
     },
     "execution_count": 152,
     "metadata": {},
     "output_type": "execute_result"
    }
   ],
   "source": [
    "#Blur\n",
    "clf = RandomForestClassifier(max_depth=5, random_state=0)\n",
    "clf.fit(X_train[features[11]].values.reshape(-1,1), y_train)\n",
    "y_predict = clf.predict(X_valid[features[11]].values.reshape(-1,1))\n",
    "predictions[8] =  \"RandomForest Blur :\" + str(mean_squared_error(y_valid, y_predict, squared=False))\n",
    "predictions"
   ]
  },
  {
   "cell_type": "code",
   "execution_count": null,
   "metadata": {},
   "outputs": [],
   "source": [
    "#Try with SVC\n",
    "from sklearn.svm import SVC\n"
   ]
  }
 ],
 "metadata": {
  "kernelspec": {
   "display_name": "Python 3",
   "language": "python",
   "name": "python3"
  },
  "language_info": {
   "codemirror_mode": {
    "name": "ipython",
    "version": 3
   },
   "file_extension": ".py",
   "mimetype": "text/x-python",
   "name": "python",
   "nbconvert_exporter": "python",
   "pygments_lexer": "ipython3",
   "version": "3.8.5"
  }
 },
 "nbformat": 4,
 "nbformat_minor": 4
}
