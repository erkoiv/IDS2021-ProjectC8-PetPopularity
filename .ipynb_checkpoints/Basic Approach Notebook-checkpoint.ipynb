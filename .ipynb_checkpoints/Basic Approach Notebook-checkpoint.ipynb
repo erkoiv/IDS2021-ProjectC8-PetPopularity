{
 "cells": [
  {
   "cell_type": "markdown",
   "metadata": {},
   "source": [
    "# Basic approach with pet-pularity dataset"
   ]
  },
  {
   "cell_type": "markdown",
   "metadata": {},
   "source": [
    "**Steps:**\n",
    "    \n",
    "**1. Loading the data**\n",
    "\n",
    "**2. Divide the dataset into train, validation and test set**\n",
    "\n",
    "**3. Train models with the train set and validate with validation set for multiple models and calualte erros**\n",
    "**4. Finally test with test set and calculate errors**\n"
   ]
  },
  {
   "cell_type": "code",
   "execution_count": 1,
   "metadata": {},
   "outputs": [],
   "source": [
    "#Lodaing the data\n",
    "import pandas as pd\n",
    "df = pd.read_csv(\"./Dataset/train.csv\")\n"
   ]
  },
  {
   "cell_type": "code",
   "execution_count": 2,
   "metadata": {},
   "outputs": [
    {
     "data": {
      "text/plain": [
       "['Overall: 80-100 :5.831315577078289 ; 50-80 :15.546811945117032 ; 30-50 :39.497578692493946 ; 0-30 :39.12429378531073',\n",
       " 'Subject Focus: 80-100 :4.744525547445255 ; 50-80 :16.78832116788321 ; 30-50 :37.22627737226277 ; 0-30 :41.24087591240876',\n",
       " 'Eyes: 80-100 :5.654217811439018 ; 50-80 :15.33037346565683 ; 30-50 :40.258553147035784 ; 0-30 :38.75685557586837',\n",
       " 'Face: 80-100 :5.78125 ; 50-80 :15.602678571428571 ; 30-50 :39.97767857142857 ; 0-30 :38.638392857142854',\n",
       " 'Near: 80-100 :5.983606557377049 ; 50-80 :15.421545667447306 ; 30-50 :39.285714285714285 ; 0-30 :39.30913348946136',\n",
       " 'Action: 80-100 :6.0606060606060606 ; 50-80 :14.14141414141414 ; 30-50 :42.42424242424242 ; 0-30 :37.37373737373738',\n",
       " 'Accessory: 80-100 :6.25 ; 50-80 :16.36904761904762 ; 30-50 :39.58333333333333 ; 0-30 :37.797619047619044',\n",
       " 'Group: 80-100 :5.694227769110764 ; 50-80 :16.926677067082682 ; 30-50 :42.043681747269886 ; 0-30 :35.33541341653666',\n",
       " 'Collage: 80-100 :5.487804878048781 ; 50-80 :15.24390243902439 ; 30-50 :40.853658536585364 ; 0-30 :38.41463414634146',\n",
       " 'Human: 80-100 :5.461165048543689 ; 50-80 :16.201456310679614 ; 30-50 :41.383495145631066 ; 0-30 :36.953883495145625',\n",
       " 'Occlusion: 80-100 :4.926686217008798 ; 50-80 :15.542521994134898 ; 30-50 :43.401759530791786 ; 0-30 :36.12903225806451',\n",
       " 'Info: 80-100 :5.601317957166392 ; 50-80 :13.838550247116968 ; 30-50 :43.163097199341024 ; 0-30 :37.39703459637562',\n",
       " 'Blur: 80-100 :5.157593123209169 ; 50-80 :14.183381088825215 ; 30-50 :37.82234957020057 ; 0-30 :42.83667621776504']"
      ]
     },
     "execution_count": 2,
     "metadata": {},
     "output_type": "execute_result"
    }
   ],
   "source": [
    "#Tryout different features 1 or 0 and then check the score percentage falls between 80-100, 50-80, 30-50, 0-30\n",
    "#Keep results in a list\n",
    "results = []\n",
    "def calculateDist(df_under_test):\n",
    "    countEightyToHundred = df_under_test[df_under_test['Pawpularity'] >=80].shape[0]\n",
    "    countFiftyToEighty = df_under_test[(df_under_test['Pawpularity'] >=50) & (df_under_test['Pawpularity'] <80)].shape[0]\n",
    "    countThirtyToFifty = df_under_test[(df_under_test['Pawpularity'] >=30) & (df_under_test['Pawpularity'] <50)].shape[0]\n",
    "    countLessThanThirty = df_under_test[df_under_test['Pawpularity'] <30].shape[0]\n",
    "    perCount1 = (countEightyToHundred/df_under_test.shape[0])*100\n",
    "    perCount2 = (countFiftyToEighty/df_under_test.shape[0])*100\n",
    "    perCount3 = (countThirtyToFifty/df_under_test.shape[0])*100\n",
    "    perCount4 = (countLessThanThirty/df_under_test.shape[0])*100\n",
    "    \n",
    "    return \"80-100 :\" + str(perCount1) + ' ; ' + \"50-80 :\" + str(perCount2)+ ' ; ' + \"30-50 :\" + str(perCount3)+ ' ; ' +\"0-30 :\" + str(perCount4)\n",
    "\n",
    "\n",
    "#Overall\n",
    "df_dummy = df\n",
    "results.append(\"Overall: \" + calculateDist(df_dummy))\n",
    "\n",
    "sub_1 = df_dummy[df_dummy['Subject Focus']==1]\n",
    "results.append(\"Subject Focus: \" + calculateDist(sub_1))\n",
    "\n",
    "eyes_1 = df_dummy[df_dummy['Eyes']==1]\n",
    "results.append(\"Eyes: \" + calculateDist(eyes_1))\n",
    "\n",
    "face_1 = df_dummy[df_dummy['Face']==1]\n",
    "results.append(\"Face: \" + calculateDist(face_1))\n",
    "\n",
    "near_1 = df_dummy[df_dummy['Near']==1]\n",
    "results.append(\"Near: \" + calculateDist(near_1))\n",
    "\n",
    "action_1 = df_dummy[df_dummy['Action']==1]\n",
    "results.append(\"Action: \" + calculateDist(action_1))\n",
    "\n",
    "accessory_1 = df_dummy[df_dummy['Accessory']==1]\n",
    "results.append(\"Accessory: \" + calculateDist(accessory_1))\n",
    "\n",
    "group_1 = df_dummy[df_dummy['Group']==1]\n",
    "results.append(\"Group: \" + calculateDist(group_1))\n",
    "\n",
    "collage_1 = df_dummy[df_dummy['Collage']==1]\n",
    "results.append(\"Collage: \" + calculateDist(collage_1))\n",
    "            \n",
    "human_1 = df_dummy[df_dummy['Human']==1]\n",
    "results.append(\"Human: \" + calculateDist(human_1))\n",
    "\n",
    "occlusion_1 = df_dummy[df_dummy['Occlusion']==1]\n",
    "results.append(\"Occlusion: \" + calculateDist(occlusion_1))\n",
    "\n",
    "info_1 = df_dummy[df_dummy['Info']==1]\n",
    "results.append(\"Info: \" + calculateDist(info_1))\n",
    "\n",
    "blur_1 = df_dummy[df_dummy['Blur']==1]\n",
    "results.append(\"Blur: \" + calculateDist(blur_1))\n",
    "\n",
    "results"
   ]
  },
  {
   "cell_type": "code",
   "execution_count": 3,
   "metadata": {},
   "outputs": [],
   "source": [
    "# Including accessory tends to increase score\n",
    "# Focus and Blur provides score biased towards 0-30\n",
    "# Group pictures lies between mid (30-80)"
   ]
  },
  {
   "cell_type": "code",
   "execution_count": 4,
   "metadata": {},
   "outputs": [],
   "source": [
    "#Divide the dataset with 90% train, 5% validation and 5% test\n",
    "from sklearn.model_selection import train_test_split\n",
    "\n",
    "train_size = 0.90\n",
    "X = df.drop(columns = ['Pawpularity']).copy()\n",
    "y = df['Pawpularity']\n",
    "\n",
    "# In the first step we will split the data in training and remaining dataset\n",
    "X_train, X_rem, y_train, y_rem = train_test_split(X,y, train_size=0.90)\n",
    "\n",
    "# Now since we want the valid and test size to be equal (10% each of overall data). \n",
    "# we have to define valid_size=0.5 (that is 50% of remaining data)\n",
    "test_size = 0.5\n",
    "X_valid, X_test, y_valid, y_test = train_test_split(X_rem,y_rem, test_size=0.5)\n"
   ]
  },
  {
   "cell_type": "code",
   "execution_count": 5,
   "metadata": {},
   "outputs": [
    {
     "data": {
      "text/plain": [
       "{0: 'KNN Accessory :20.663197766451443'}"
      ]
     },
     "execution_count": 5,
     "metadata": {},
     "output_type": "execute_result"
    }
   ],
   "source": [
    "#Train model with accessory first then with Blur & Focus\n",
    "predictions= {}\n",
    "\n",
    "from sklearn.neighbors import KNeighborsClassifier\n",
    "#from sklearn.metrics import accuracy_score\n",
    "from sklearn.metrics import mean_squared_error\n",
    "\n",
    "classifier1 = KNeighborsClassifier(n_neighbors=8)\n",
    "classifier1.fit(X_train['Accessory'].values.reshape(-1,1), y_train)\n",
    "y_predict = classifier1.predict(X_valid['Accessory'].values.reshape(-1,1))\n",
    "predictions[0] = \"KNN Accessory :\" + str(mean_squared_error(y_valid, y_predict, squared=False))\n",
    "\n",
    "predictions"
   ]
  },
  {
   "cell_type": "code",
   "execution_count": 6,
   "metadata": {},
   "outputs": [
    {
     "data": {
      "text/plain": [
       "{0: 'KNN Accessory :20.663197766451443', 1: 'KNN Blur :29.69356262374595'}"
      ]
     },
     "execution_count": 6,
     "metadata": {},
     "output_type": "execute_result"
    }
   ],
   "source": [
    "#Blur KNN\n",
    "classifier2 = KNeighborsClassifier(n_neighbors=2)\n",
    "classifier2.fit(X_train['Blur'].values.reshape(-1,1), y_train)\n",
    "y_predict = classifier2.predict(X_valid['Blur'].values.reshape(-1,1))\n",
    "predictions[1] = \"KNN Blur :\" + str(mean_squared_error(y_valid, y_predict, squared=False))\n",
    "predictions"
   ]
  },
  {
   "cell_type": "code",
   "execution_count": 7,
   "metadata": {},
   "outputs": [
    {
     "data": {
      "text/plain": [
       "{0: 'KNN Accessory :20.663197766451443',\n",
       " 1: 'KNN Blur :29.69356262374595',\n",
       " 2: 'KNN Subject Focus :26.815491129496937'}"
      ]
     },
     "execution_count": 7,
     "metadata": {},
     "output_type": "execute_result"
    }
   ],
   "source": [
    "classifier3 = KNeighborsClassifier(n_neighbors=6)\n",
    "classifier3.fit(X_train['Subject Focus'].values.reshape(-1,1), y_train)\n",
    "y_predict = classifier3.predict(X_valid['Subject Focus'].values.reshape(-1,1))\n",
    "predictions[2] = \"KNN Subject Focus :\" + str(mean_squared_error(y_valid, y_predict, squared=False))\n",
    "predictions"
   ]
  },
  {
   "cell_type": "code",
   "execution_count": 8,
   "metadata": {},
   "outputs": [
    {
     "data": {
      "text/plain": [
       "{0: 'KNN Accessory :20.663197766451443',\n",
       " 1: 'KNN Blur :29.69356262374595',\n",
       " 2: 'KNN Subject Focus :26.815491129496937',\n",
       " 3: 'KNN ALL :33.97989206157266'}"
      ]
     },
     "execution_count": 8,
     "metadata": {},
     "output_type": "execute_result"
    }
   ],
   "source": [
    "features = ['Subject Focus','Eyes','Face','Near','Action','Accessory', 'Group', 'Collage', 'Human', 'Occlusion', 'Info', 'Blur']\n",
    "\n",
    "classifier = KNeighborsClassifier(n_neighbors=7)\n",
    "classifier.fit(X_train[features], y_train)\n",
    "y_predict = classifier.predict(X_valid[features])\n",
    "predictions[3] = \"KNN ALL :\" + str(mean_squared_error(y_valid, y_predict, squared=False))\n",
    "predictions"
   ]
  },
  {
   "cell_type": "code",
   "execution_count": 9,
   "metadata": {},
   "outputs": [
    {
     "data": {
      "text/plain": [
       "{0: 'KNN Accessory :20.663197766451443',\n",
       " 1: 'KNN Blur :29.69356262374595',\n",
       " 2: 'KNN Subject Focus :26.815491129496937',\n",
       " 3: 'KNN ALL :33.97989206157266',\n",
       " 4: 'KNN Subject Focus, Accessory, Blur :31.588712765694464'}"
      ]
     },
     "execution_count": 9,
     "metadata": {},
     "output_type": "execute_result"
    }
   ],
   "source": [
    "features = ['Subject Focus','Accessory', 'Blur']\n",
    "\n",
    "classifier = KNeighborsClassifier(n_neighbors=7)\n",
    "classifier.fit(X_train[features], y_train)\n",
    "y_predict = classifier.predict(X_valid[features])\n",
    "predictions[4] = \"KNN Subject Focus, Accessory, Blur :\" + str(mean_squared_error(y_valid, y_predict, squared=False))\n",
    "predictions"
   ]
  },
  {
   "cell_type": "code",
   "execution_count": 10,
   "metadata": {},
   "outputs": [
    {
     "data": {
      "text/plain": [
       "{0: 'KNN Accessory :20.663197766451443',\n",
       " 1: 'KNN Blur :29.69356262374595',\n",
       " 2: 'KNN Subject Focus :26.815491129496937',\n",
       " 3: 'KNN ALL :33.97989206157266',\n",
       " 4: 'KNN Subject Focus, Accessory, Blur :31.588712765694464',\n",
       " 5: 'RandomForest ALL :22.632005242362474'}"
      ]
     },
     "execution_count": 10,
     "metadata": {},
     "output_type": "execute_result"
    }
   ],
   "source": [
    "# Try other models\n",
    "features = ['Subject Focus','Eyes','Face','Near','Action','Accessory', 'Group', 'Collage', 'Human', 'Occlusion', 'Info', 'Blur']\n",
    "from sklearn.ensemble import RandomForestClassifier\n",
    "clf = RandomForestClassifier(max_depth=5, random_state=0)\n",
    "clf.fit(X_train[features], y_train)\n",
    "y_predict = clf.predict(X_valid[features])\n",
    "predictions[5] = \"RandomForest ALL :\" + str(mean_squared_error(y_valid, y_predict, squared=False))\n",
    "predictions"
   ]
  },
  {
   "cell_type": "code",
   "execution_count": 86,
   "metadata": {},
   "outputs": [
    {
     "data": {
      "text/plain": [
       "{0: 'KNN Accessory :20.663197766451443',\n",
       " 1: 'KNN Blur :29.69356262374595',\n",
       " 2: 'KNN Subject Focus :26.815491129496937',\n",
       " 3: 'KNN ALL :33.97989206157266',\n",
       " 4: 'KNN Subject Focus, Accessory, Blur :31.588712765694464',\n",
       " 5: 'RandomForest ALL :22.632005242362474',\n",
       " 6: 'RandomForest Subject Focus :22.3012277254979',\n",
       " 7: 'RandomForest Accessories :22.26938264132633',\n",
       " 8: 'RandomForest Blur :21.852465351430805',\n",
       " 9: 'DecisionTree All :24.7573710105665',\n",
       " 10: 'DecisionTree Accessories :23.13664702336687',\n",
       " 11: 'DecisionTree Blur :21.852465351430805',\n",
       " 12: 'DecisionTree Subject Focus :21.529190611518512',\n",
       " 13: 'SVM-Linear Accessories :21.541735560714276',\n",
       " 14: 'SVM-Linear Blur :21.852465351430805',\n",
       " 15: 'SVM-Linear Subject Focus :21.529190611518512',\n",
       " 16: 'SVM-Poly ALL :22.738254678106927',\n",
       " 17: 'SVM-poly Accessories :23.13664702336687',\n",
       " 18: 'SVM-poly Blur :21.852465351430805',\n",
       " 19: 'SVM-poly Subject Focus :21.529190611518512',\n",
       " 20: 'SVM-Rbf ALL :22.441411174074393',\n",
       " 21: 'SVM-Rbf Accessories :23.13664702336687',\n",
       " 22: 'SVM-Rbf Blur :21.852465351430805',\n",
       " 23: 'SVM-Rbf Subject Focus :21.529190611518512'}"
      ]
     },
     "execution_count": 86,
     "metadata": {},
     "output_type": "execute_result"
    }
   ],
   "source": [
    "#Subject Focus\n",
    "clf = RandomForestClassifier(max_depth=5, random_state=None)\n",
    "clf.fit(X_train[features[0]].values.reshape(-1,1), y_train)\n",
    "y_predict = clf.predict(X_valid[features[0]].values.reshape(-1,1))\n",
    "predictions[6] = \"RandomForest Subject Focus :\" + str(mean_squared_error(y_valid, y_predict, squared=False))\n",
    "predictions"
   ]
  },
  {
   "cell_type": "code",
   "execution_count": 12,
   "metadata": {},
   "outputs": [
    {
     "data": {
      "text/plain": [
       "{0: 'KNN Accessory :20.663197766451443',\n",
       " 1: 'KNN Blur :29.69356262374595',\n",
       " 2: 'KNN Subject Focus :26.815491129496937',\n",
       " 3: 'KNN ALL :33.97989206157266',\n",
       " 4: 'KNN Subject Focus, Accessory, Blur :31.588712765694464',\n",
       " 5: 'RandomForest ALL :22.632005242362474',\n",
       " 6: 'RandomForest Subject Focus :21.529190611518512',\n",
       " 7: 'RandomForest Accessories :22.26938264132633'}"
      ]
     },
     "execution_count": 12,
     "metadata": {},
     "output_type": "execute_result"
    }
   ],
   "source": [
    "#Accessories\n",
    "clf = RandomForestClassifier(max_depth=5, random_state=0)\n",
    "clf.fit(X_train[features[5]].values.reshape(-1,1), y_train)\n",
    "y_predict = clf.predict(X_valid[features[5]].values.reshape(-1,1))\n",
    "predictions[7] = \"RandomForest Accessories :\" + str(mean_squared_error(y_valid, y_predict, squared=False))\n",
    "predictions"
   ]
  },
  {
   "cell_type": "code",
   "execution_count": 13,
   "metadata": {},
   "outputs": [
    {
     "data": {
      "text/plain": [
       "{0: 'KNN Accessory :20.663197766451443',\n",
       " 1: 'KNN Blur :29.69356262374595',\n",
       " 2: 'KNN Subject Focus :26.815491129496937',\n",
       " 3: 'KNN ALL :33.97989206157266',\n",
       " 4: 'KNN Subject Focus, Accessory, Blur :31.588712765694464',\n",
       " 5: 'RandomForest ALL :22.632005242362474',\n",
       " 6: 'RandomForest Subject Focus :21.529190611518512',\n",
       " 7: 'RandomForest Accessories :22.26938264132633',\n",
       " 8: 'RandomForest Blur :21.852465351430805'}"
      ]
     },
     "execution_count": 13,
     "metadata": {},
     "output_type": "execute_result"
    }
   ],
   "source": [
    "#Blur\n",
    "clf = RandomForestClassifier(max_depth=5, random_state=0)\n",
    "clf.fit(X_train[features[11]].values.reshape(-1,1), y_train)\n",
    "y_predict = clf.predict(X_valid[features[11]].values.reshape(-1,1))\n",
    "predictions[8] =  \"RandomForest Blur :\" + str(mean_squared_error(y_valid, y_predict, squared=False))\n",
    "predictions  "
   ]
  },
  {
   "cell_type": "code",
   "execution_count": 14,
   "metadata": {},
   "outputs": [
    {
     "data": {
      "text/plain": [
       "{0: 'KNN Accessory :20.663197766451443',\n",
       " 1: 'KNN Blur :29.69356262374595',\n",
       " 2: 'KNN Subject Focus :26.815491129496937',\n",
       " 3: 'KNN ALL :33.97989206157266',\n",
       " 4: 'KNN Subject Focus, Accessory, Blur :31.588712765694464',\n",
       " 5: 'RandomForest ALL :22.632005242362474',\n",
       " 6: 'RandomForest Subject Focus :21.529190611518512',\n",
       " 7: 'RandomForest Accessories :22.26938264132633',\n",
       " 8: 'RandomForest Blur :21.852465351430805',\n",
       " 9: 'DecisionTree All :24.7573710105665'}"
      ]
     },
     "execution_count": 14,
     "metadata": {},
     "output_type": "execute_result"
    }
   ],
   "source": [
    "#Try with decision tree classifier\n",
    "from sklearn.tree import DecisionTreeClassifier\n",
    "dt_model = (DecisionTreeClassifier(criterion='entropy', random_state=0)\n",
    "            .fit(X_train[features], y_train))\n",
    "y_predict = dt_model.predict(X_valid[features])\n",
    "predictions[9] =  \"DecisionTree All :\" + str(mean_squared_error(y_valid, y_predict, squared=False))\n",
    "predictions"
   ]
  },
  {
   "cell_type": "code",
   "execution_count": 15,
   "metadata": {},
   "outputs": [
    {
     "data": {
      "text/plain": [
       "{0: 'KNN Accessory :20.663197766451443',\n",
       " 1: 'KNN Blur :29.69356262374595',\n",
       " 2: 'KNN Subject Focus :26.815491129496937',\n",
       " 3: 'KNN ALL :33.97989206157266',\n",
       " 4: 'KNN Subject Focus, Accessory, Blur :31.588712765694464',\n",
       " 5: 'RandomForest ALL :22.632005242362474',\n",
       " 6: 'RandomForest Subject Focus :21.529190611518512',\n",
       " 7: 'RandomForest Accessories :22.26938264132633',\n",
       " 8: 'RandomForest Blur :21.852465351430805',\n",
       " 9: 'DecisionTree All :24.7573710105665',\n",
       " 10: 'DecisionTree Accessories :23.13664702336687'}"
      ]
     },
     "execution_count": 15,
     "metadata": {},
     "output_type": "execute_result"
    }
   ],
   "source": [
    "dt_model = (DecisionTreeClassifier(criterion='entropy', random_state=0)\n",
    "            .fit(X_train[features[5]].values.reshape(-1,1), y_train))\n",
    "y_predict = dt_model.predict(X_valid[features[5]].values.reshape(-1,1))\n",
    "predictions[10] =  \"DecisionTree Accessories :\" + str(mean_squared_error(y_valid, y_predict, squared=False))\n",
    "predictions"
   ]
  },
  {
   "cell_type": "code",
   "execution_count": 16,
   "metadata": {},
   "outputs": [
    {
     "data": {
      "text/plain": [
       "{0: 'KNN Accessory :20.663197766451443',\n",
       " 1: 'KNN Blur :29.69356262374595',\n",
       " 2: 'KNN Subject Focus :26.815491129496937',\n",
       " 3: 'KNN ALL :33.97989206157266',\n",
       " 4: 'KNN Subject Focus, Accessory, Blur :31.588712765694464',\n",
       " 5: 'RandomForest ALL :22.632005242362474',\n",
       " 6: 'RandomForest Subject Focus :21.529190611518512',\n",
       " 7: 'RandomForest Accessories :22.26938264132633',\n",
       " 8: 'RandomForest Blur :21.852465351430805',\n",
       " 9: 'DecisionTree All :24.7573710105665',\n",
       " 10: 'DecisionTree Accessories :23.13664702336687',\n",
       " 11: 'DecisionTree Blur :21.852465351430805'}"
      ]
     },
     "execution_count": 16,
     "metadata": {},
     "output_type": "execute_result"
    }
   ],
   "source": [
    "dt_model = (DecisionTreeClassifier(criterion='entropy', random_state=0)\n",
    "            .fit(X_train[features[11]].values.reshape(-1,1), y_train))\n",
    "y_predict = dt_model.predict(X_valid[features[11]].values.reshape(-1,1))\n",
    "predictions[11] =  \"DecisionTree Blur :\" + str(mean_squared_error(y_valid, y_predict, squared=False))\n",
    "predictions"
   ]
  },
  {
   "cell_type": "code",
   "execution_count": 17,
   "metadata": {},
   "outputs": [
    {
     "data": {
      "text/plain": [
       "{0: 'KNN Accessory :20.663197766451443',\n",
       " 1: 'KNN Blur :29.69356262374595',\n",
       " 2: 'KNN Subject Focus :26.815491129496937',\n",
       " 3: 'KNN ALL :33.97989206157266',\n",
       " 4: 'KNN Subject Focus, Accessory, Blur :31.588712765694464',\n",
       " 5: 'RandomForest ALL :22.632005242362474',\n",
       " 6: 'RandomForest Subject Focus :21.529190611518512',\n",
       " 7: 'RandomForest Accessories :22.26938264132633',\n",
       " 8: 'RandomForest Blur :21.852465351430805',\n",
       " 9: 'DecisionTree All :24.7573710105665',\n",
       " 10: 'DecisionTree Accessories :23.13664702336687',\n",
       " 11: 'DecisionTree Blur :21.852465351430805',\n",
       " 12: 'DecisionTree Subject Focus :21.529190611518512'}"
      ]
     },
     "execution_count": 17,
     "metadata": {},
     "output_type": "execute_result"
    }
   ],
   "source": [
    "dt_model = (DecisionTreeClassifier(criterion='entropy', random_state=0)\n",
    "            .fit(X_train[features[0]].values.reshape(-1,1), y_train))\n",
    "y_predict = dt_model.predict(X_valid[features[0]].values.reshape(-1,1))\n",
    "predictions[12] =  \"DecisionTree Subject Focus :\" + str(mean_squared_error(y_valid, y_predict, squared=False))\n",
    "predictions"
   ]
  },
  {
   "cell_type": "code",
   "execution_count": 18,
   "metadata": {},
   "outputs": [
    {
     "data": {
      "text/plain": [
       "{0: 'KNN Accessory :20.663197766451443',\n",
       " 1: 'KNN Blur :29.69356262374595',\n",
       " 2: 'KNN Subject Focus :26.815491129496937',\n",
       " 3: 'KNN ALL :33.97989206157266',\n",
       " 4: 'KNN Subject Focus, Accessory, Blur :31.588712765694464',\n",
       " 5: 'RandomForest ALL :22.632005242362474',\n",
       " 6: 'RandomForest Subject Focus :21.529190611518512',\n",
       " 7: 'RandomForest Accessories :22.26938264132633',\n",
       " 8: 'RandomForest Blur :21.852465351430805',\n",
       " 9: 'DecisionTree All :24.7573710105665',\n",
       " 10: 'DecisionTree Accessories :23.13664702336687',\n",
       " 11: 'DecisionTree Blur :21.852465351430805',\n",
       " 12: 'DecisionTree Subject Focus :21.529190611518512',\n",
       " 13: 'SVM-Linear ALL :22.55883883708156'}"
      ]
     },
     "execution_count": 18,
     "metadata": {},
     "output_type": "execute_result"
    }
   ],
   "source": [
    "#Try with SVC\n",
    "from sklearn.svm import SVC\n",
    "svm_1 = SVC(kernel='linear').fit(X_train[features], y_train)\n",
    "y_predict = svm_1.predict(X_valid[features])\n",
    "predictions[13] =  \"SVM-Linear ALL :\" + str(mean_squared_error(y_valid, y_predict, squared=False))\n",
    "predictions"
   ]
  },
  {
   "cell_type": "code",
   "execution_count": 19,
   "metadata": {},
   "outputs": [
    {
     "data": {
      "text/plain": [
       "{0: 'KNN Accessory :20.663197766451443',\n",
       " 1: 'KNN Blur :29.69356262374595',\n",
       " 2: 'KNN Subject Focus :26.815491129496937',\n",
       " 3: 'KNN ALL :33.97989206157266',\n",
       " 4: 'KNN Subject Focus, Accessory, Blur :31.588712765694464',\n",
       " 5: 'RandomForest ALL :22.632005242362474',\n",
       " 6: 'RandomForest Subject Focus :21.529190611518512',\n",
       " 7: 'RandomForest Accessories :22.26938264132633',\n",
       " 8: 'RandomForest Blur :21.852465351430805',\n",
       " 9: 'DecisionTree All :24.7573710105665',\n",
       " 10: 'DecisionTree Accessories :23.13664702336687',\n",
       " 11: 'DecisionTree Blur :21.852465351430805',\n",
       " 12: 'DecisionTree Subject Focus :21.529190611518512',\n",
       " 13: 'SVM-Linear Accessories :21.541735560714276'}"
      ]
     },
     "execution_count": 19,
     "metadata": {},
     "output_type": "execute_result"
    }
   ],
   "source": [
    "svm_1 = SVC(kernel='linear').fit(X_train[features[5]].values.reshape(-1,1), y_train)\n",
    "y_predict = svm_1.predict(X_valid[features[5]].values.reshape(-1,1))\n",
    "predictions[13] =  \"SVM-Linear Accessories :\" + str(mean_squared_error(y_valid, y_predict, squared=False))\n",
    "predictions"
   ]
  },
  {
   "cell_type": "code",
   "execution_count": 20,
   "metadata": {},
   "outputs": [
    {
     "data": {
      "text/plain": [
       "{0: 'KNN Accessory :20.663197766451443',\n",
       " 1: 'KNN Blur :29.69356262374595',\n",
       " 2: 'KNN Subject Focus :26.815491129496937',\n",
       " 3: 'KNN ALL :33.97989206157266',\n",
       " 4: 'KNN Subject Focus, Accessory, Blur :31.588712765694464',\n",
       " 5: 'RandomForest ALL :22.632005242362474',\n",
       " 6: 'RandomForest Subject Focus :21.529190611518512',\n",
       " 7: 'RandomForest Accessories :22.26938264132633',\n",
       " 8: 'RandomForest Blur :21.852465351430805',\n",
       " 9: 'DecisionTree All :24.7573710105665',\n",
       " 10: 'DecisionTree Accessories :23.13664702336687',\n",
       " 11: 'DecisionTree Blur :21.852465351430805',\n",
       " 12: 'DecisionTree Subject Focus :21.529190611518512',\n",
       " 13: 'SVM-Linear Accessories :21.541735560714276',\n",
       " 14: 'SVM-Linear Blur :21.852465351430805'}"
      ]
     },
     "execution_count": 20,
     "metadata": {},
     "output_type": "execute_result"
    }
   ],
   "source": [
    "svm_1 = (SVC(kernel='linear')\n",
    "         .fit(X_train[features[11]].values.reshape(-1,1), y_train))\n",
    "y_predict = svm_1.predict(X_valid[features[11]].values.reshape(-1,1))\n",
    "predictions[14] =  \"SVM-Linear Blur :\" + str(mean_squared_error(y_valid, y_predict, squared=False))\n",
    "predictions"
   ]
  },
  {
   "cell_type": "code",
   "execution_count": 21,
   "metadata": {},
   "outputs": [
    {
     "data": {
      "text/plain": [
       "{0: 'KNN Accessory :20.663197766451443',\n",
       " 1: 'KNN Blur :29.69356262374595',\n",
       " 2: 'KNN Subject Focus :26.815491129496937',\n",
       " 3: 'KNN ALL :33.97989206157266',\n",
       " 4: 'KNN Subject Focus, Accessory, Blur :31.588712765694464',\n",
       " 5: 'RandomForest ALL :22.632005242362474',\n",
       " 6: 'RandomForest Subject Focus :21.529190611518512',\n",
       " 7: 'RandomForest Accessories :22.26938264132633',\n",
       " 8: 'RandomForest Blur :21.852465351430805',\n",
       " 9: 'DecisionTree All :24.7573710105665',\n",
       " 10: 'DecisionTree Accessories :23.13664702336687',\n",
       " 11: 'DecisionTree Blur :21.852465351430805',\n",
       " 12: 'DecisionTree Subject Focus :21.529190611518512',\n",
       " 13: 'SVM-Linear Accessories :21.541735560714276',\n",
       " 14: 'SVM-Linear Blur :21.852465351430805',\n",
       " 15: 'SVM-Linear Subject Focus :21.529190611518512'}"
      ]
     },
     "execution_count": 21,
     "metadata": {},
     "output_type": "execute_result"
    }
   ],
   "source": [
    "svm_1 = (SVC(kernel='linear')\n",
    "         .fit(X_train[features[0]].values.reshape(-1,1), y_train))\n",
    "y_predict = svm_1.predict(X_valid[features[0]].values.reshape(-1,1))\n",
    "predictions[15] =  \"SVM-Linear Subject Focus :\" + str(mean_squared_error(y_valid, y_predict, squared=False))\n",
    "predictions"
   ]
  },
  {
   "cell_type": "code",
   "execution_count": 22,
   "metadata": {},
   "outputs": [
    {
     "data": {
      "text/plain": [
       "{0: 'KNN Accessory :20.663197766451443',\n",
       " 1: 'KNN Blur :29.69356262374595',\n",
       " 2: 'KNN Subject Focus :26.815491129496937',\n",
       " 3: 'KNN ALL :33.97989206157266',\n",
       " 4: 'KNN Subject Focus, Accessory, Blur :31.588712765694464',\n",
       " 5: 'RandomForest ALL :22.632005242362474',\n",
       " 6: 'RandomForest Subject Focus :21.529190611518512',\n",
       " 7: 'RandomForest Accessories :22.26938264132633',\n",
       " 8: 'RandomForest Blur :21.852465351430805',\n",
       " 9: 'DecisionTree All :24.7573710105665',\n",
       " 10: 'DecisionTree Accessories :23.13664702336687',\n",
       " 11: 'DecisionTree Blur :21.852465351430805',\n",
       " 12: 'DecisionTree Subject Focus :21.529190611518512',\n",
       " 13: 'SVM-Linear Accessories :21.541735560714276',\n",
       " 14: 'SVM-Linear Blur :21.852465351430805',\n",
       " 15: 'SVM-Linear Subject Focus :21.529190611518512',\n",
       " 16: 'SVM-Poly ALL :22.738254678106927'}"
      ]
     },
     "execution_count": 22,
     "metadata": {},
     "output_type": "execute_result"
    }
   ],
   "source": [
    "svm_poly = SVC(kernel='poly').fit(X_train[features], y_train)\n",
    "y_predict = svm_poly.predict(X_valid[features])\n",
    "predictions[16] =  \"SVM-Poly ALL :\" + str(mean_squared_error(y_valid, y_predict, squared=False))\n",
    "predictions"
   ]
  },
  {
   "cell_type": "code",
   "execution_count": 23,
   "metadata": {},
   "outputs": [
    {
     "data": {
      "text/plain": [
       "{0: 'KNN Accessory :20.663197766451443',\n",
       " 1: 'KNN Blur :29.69356262374595',\n",
       " 2: 'KNN Subject Focus :26.815491129496937',\n",
       " 3: 'KNN ALL :33.97989206157266',\n",
       " 4: 'KNN Subject Focus, Accessory, Blur :31.588712765694464',\n",
       " 5: 'RandomForest ALL :22.632005242362474',\n",
       " 6: 'RandomForest Subject Focus :21.529190611518512',\n",
       " 7: 'RandomForest Accessories :22.26938264132633',\n",
       " 8: 'RandomForest Blur :21.852465351430805',\n",
       " 9: 'DecisionTree All :24.7573710105665',\n",
       " 10: 'DecisionTree Accessories :23.13664702336687',\n",
       " 11: 'DecisionTree Blur :21.852465351430805',\n",
       " 12: 'DecisionTree Subject Focus :21.529190611518512',\n",
       " 13: 'SVM-Linear Accessories :21.541735560714276',\n",
       " 14: 'SVM-Linear Blur :21.852465351430805',\n",
       " 15: 'SVM-Linear Subject Focus :21.529190611518512',\n",
       " 16: 'SVM-Poly ALL :22.738254678106927',\n",
       " 17: 'SVM-poly Accessories :23.13664702336687'}"
      ]
     },
     "execution_count": 23,
     "metadata": {},
     "output_type": "execute_result"
    }
   ],
   "source": [
    "svm_poly = SVC(kernel='poly').fit(X_train[features[5]].values.reshape(-1,1), y_train)\n",
    "y_predict = svm_poly.predict(X_valid[features[5]].values.reshape(-1,1))\n",
    "predictions[17] =  \"SVM-poly Accessories :\" + str(mean_squared_error(y_valid, y_predict, squared=False))\n",
    "predictions"
   ]
  },
  {
   "cell_type": "code",
   "execution_count": 24,
   "metadata": {},
   "outputs": [
    {
     "data": {
      "text/plain": [
       "{0: 'KNN Accessory :20.663197766451443',\n",
       " 1: 'KNN Blur :29.69356262374595',\n",
       " 2: 'KNN Subject Focus :26.815491129496937',\n",
       " 3: 'KNN ALL :33.97989206157266',\n",
       " 4: 'KNN Subject Focus, Accessory, Blur :31.588712765694464',\n",
       " 5: 'RandomForest ALL :22.632005242362474',\n",
       " 6: 'RandomForest Subject Focus :21.529190611518512',\n",
       " 7: 'RandomForest Accessories :22.26938264132633',\n",
       " 8: 'RandomForest Blur :21.852465351430805',\n",
       " 9: 'DecisionTree All :24.7573710105665',\n",
       " 10: 'DecisionTree Accessories :23.13664702336687',\n",
       " 11: 'DecisionTree Blur :21.852465351430805',\n",
       " 12: 'DecisionTree Subject Focus :21.529190611518512',\n",
       " 13: 'SVM-Linear Accessories :21.541735560714276',\n",
       " 14: 'SVM-Linear Blur :21.852465351430805',\n",
       " 15: 'SVM-Linear Subject Focus :21.529190611518512',\n",
       " 16: 'SVM-Poly ALL :22.738254678106927',\n",
       " 17: 'SVM-poly Accessories :23.13664702336687',\n",
       " 18: 'SVM-poly Blur :21.852465351430805'}"
      ]
     },
     "execution_count": 24,
     "metadata": {},
     "output_type": "execute_result"
    }
   ],
   "source": [
    "svm_poly = SVC(kernel='poly').fit(X_train[features[11]].values.reshape(-1,1), y_train)\n",
    "y_predict = svm_poly.predict(X_valid[features[11]].values.reshape(-1,1))\n",
    "predictions[18] =  \"SVM-poly Blur :\" + str(mean_squared_error(y_valid, y_predict, squared=False))\n",
    "predictions"
   ]
  },
  {
   "cell_type": "code",
   "execution_count": 25,
   "metadata": {},
   "outputs": [
    {
     "data": {
      "text/plain": [
       "{0: 'KNN Accessory :20.663197766451443',\n",
       " 1: 'KNN Blur :29.69356262374595',\n",
       " 2: 'KNN Subject Focus :26.815491129496937',\n",
       " 3: 'KNN ALL :33.97989206157266',\n",
       " 4: 'KNN Subject Focus, Accessory, Blur :31.588712765694464',\n",
       " 5: 'RandomForest ALL :22.632005242362474',\n",
       " 6: 'RandomForest Subject Focus :21.529190611518512',\n",
       " 7: 'RandomForest Accessories :22.26938264132633',\n",
       " 8: 'RandomForest Blur :21.852465351430805',\n",
       " 9: 'DecisionTree All :24.7573710105665',\n",
       " 10: 'DecisionTree Accessories :23.13664702336687',\n",
       " 11: 'DecisionTree Blur :21.852465351430805',\n",
       " 12: 'DecisionTree Subject Focus :21.529190611518512',\n",
       " 13: 'SVM-Linear Accessories :21.541735560714276',\n",
       " 14: 'SVM-Linear Blur :21.852465351430805',\n",
       " 15: 'SVM-Linear Subject Focus :21.529190611518512',\n",
       " 16: 'SVM-Poly ALL :22.738254678106927',\n",
       " 17: 'SVM-poly Accessories :23.13664702336687',\n",
       " 18: 'SVM-poly Blur :21.852465351430805',\n",
       " 19: 'SVM-poly Subject Focus :21.529190611518512'}"
      ]
     },
     "execution_count": 25,
     "metadata": {},
     "output_type": "execute_result"
    }
   ],
   "source": [
    "svm_poly = SVC(kernel='poly').fit(X_train[features[0]].values.reshape(-1,1), y_train)\n",
    "y_predict = svm_poly.predict(X_valid[features[0]].values.reshape(-1,1))\n",
    "predictions[19] =  \"SVM-poly Subject Focus :\" + str(mean_squared_error(y_valid, y_predict, squared=False))\n",
    "predictions"
   ]
  },
  {
   "cell_type": "code",
   "execution_count": 26,
   "metadata": {},
   "outputs": [
    {
     "data": {
      "text/plain": [
       "{0: 'KNN Accessory :20.663197766451443',\n",
       " 1: 'KNN Blur :29.69356262374595',\n",
       " 2: 'KNN Subject Focus :26.815491129496937',\n",
       " 3: 'KNN ALL :33.97989206157266',\n",
       " 4: 'KNN Subject Focus, Accessory, Blur :31.588712765694464',\n",
       " 5: 'RandomForest ALL :22.632005242362474',\n",
       " 6: 'RandomForest Subject Focus :21.529190611518512',\n",
       " 7: 'RandomForest Accessories :22.26938264132633',\n",
       " 8: 'RandomForest Blur :21.852465351430805',\n",
       " 9: 'DecisionTree All :24.7573710105665',\n",
       " 10: 'DecisionTree Accessories :23.13664702336687',\n",
       " 11: 'DecisionTree Blur :21.852465351430805',\n",
       " 12: 'DecisionTree Subject Focus :21.529190611518512',\n",
       " 13: 'SVM-Linear Accessories :21.541735560714276',\n",
       " 14: 'SVM-Linear Blur :21.852465351430805',\n",
       " 15: 'SVM-Linear Subject Focus :21.529190611518512',\n",
       " 16: 'SVM-Poly ALL :22.738254678106927',\n",
       " 17: 'SVM-poly Accessories :23.13664702336687',\n",
       " 18: 'SVM-poly Blur :21.852465351430805',\n",
       " 19: 'SVM-poly Subject Focus :21.529190611518512',\n",
       " 20: 'SVM-Rbf ALL :22.441411174074393'}"
      ]
     },
     "execution_count": 26,
     "metadata": {},
     "output_type": "execute_result"
    }
   ],
   "source": [
    "svm_rbf = SVC(kernel='rbf',gamma='auto').fit(X_train[features], y_train)\n",
    "y_predict = svm_rbf.predict(X_valid[features])\n",
    "predictions[20] =  \"SVM-Rbf ALL :\" + str(mean_squared_error(y_valid, y_predict, squared=False))\n",
    "predictions"
   ]
  },
  {
   "cell_type": "code",
   "execution_count": 27,
   "metadata": {},
   "outputs": [
    {
     "data": {
      "text/plain": [
       "{0: 'KNN Accessory :20.663197766451443',\n",
       " 1: 'KNN Blur :29.69356262374595',\n",
       " 2: 'KNN Subject Focus :26.815491129496937',\n",
       " 3: 'KNN ALL :33.97989206157266',\n",
       " 4: 'KNN Subject Focus, Accessory, Blur :31.588712765694464',\n",
       " 5: 'RandomForest ALL :22.632005242362474',\n",
       " 6: 'RandomForest Subject Focus :21.529190611518512',\n",
       " 7: 'RandomForest Accessories :22.26938264132633',\n",
       " 8: 'RandomForest Blur :21.852465351430805',\n",
       " 9: 'DecisionTree All :24.7573710105665',\n",
       " 10: 'DecisionTree Accessories :23.13664702336687',\n",
       " 11: 'DecisionTree Blur :21.852465351430805',\n",
       " 12: 'DecisionTree Subject Focus :21.529190611518512',\n",
       " 13: 'SVM-Linear Accessories :21.541735560714276',\n",
       " 14: 'SVM-Linear Blur :21.852465351430805',\n",
       " 15: 'SVM-Linear Subject Focus :21.529190611518512',\n",
       " 16: 'SVM-Poly ALL :22.738254678106927',\n",
       " 17: 'SVM-poly Accessories :23.13664702336687',\n",
       " 18: 'SVM-poly Blur :21.852465351430805',\n",
       " 19: 'SVM-poly Subject Focus :21.529190611518512',\n",
       " 20: 'SVM-Rbf ALL :22.441411174074393',\n",
       " 21: 'SVM-Rbf Accessories :23.13664702336687'}"
      ]
     },
     "execution_count": 27,
     "metadata": {},
     "output_type": "execute_result"
    }
   ],
   "source": [
    "svm_rbf = SVC(kernel='rbf',gamma='auto').fit(X_train[features[5]].values.reshape(-1,1), y_train)\n",
    "y_predict = svm_rbf.predict(X_valid[features[5]].values.reshape(-1,1))\n",
    "predictions[21] =  \"SVM-Rbf Accessories :\" + str(mean_squared_error(y_valid, y_predict, squared=False))\n",
    "predictions"
   ]
  },
  {
   "cell_type": "code",
   "execution_count": 28,
   "metadata": {},
   "outputs": [
    {
     "data": {
      "text/plain": [
       "{0: 'KNN Accessory :20.663197766451443',\n",
       " 1: 'KNN Blur :29.69356262374595',\n",
       " 2: 'KNN Subject Focus :26.815491129496937',\n",
       " 3: 'KNN ALL :33.97989206157266',\n",
       " 4: 'KNN Subject Focus, Accessory, Blur :31.588712765694464',\n",
       " 5: 'RandomForest ALL :22.632005242362474',\n",
       " 6: 'RandomForest Subject Focus :21.529190611518512',\n",
       " 7: 'RandomForest Accessories :22.26938264132633',\n",
       " 8: 'RandomForest Blur :21.852465351430805',\n",
       " 9: 'DecisionTree All :24.7573710105665',\n",
       " 10: 'DecisionTree Accessories :23.13664702336687',\n",
       " 11: 'DecisionTree Blur :21.852465351430805',\n",
       " 12: 'DecisionTree Subject Focus :21.529190611518512',\n",
       " 13: 'SVM-Linear Accessories :21.541735560714276',\n",
       " 14: 'SVM-Linear Blur :21.852465351430805',\n",
       " 15: 'SVM-Linear Subject Focus :21.529190611518512',\n",
       " 16: 'SVM-Poly ALL :22.738254678106927',\n",
       " 17: 'SVM-poly Accessories :23.13664702336687',\n",
       " 18: 'SVM-poly Blur :21.852465351430805',\n",
       " 19: 'SVM-poly Subject Focus :21.529190611518512',\n",
       " 20: 'SVM-Rbf ALL :22.441411174074393',\n",
       " 21: 'SVM-Rbf Accessories :23.13664702336687',\n",
       " 22: 'SVM-Rbf Blur :21.852465351430805'}"
      ]
     },
     "execution_count": 28,
     "metadata": {},
     "output_type": "execute_result"
    }
   ],
   "source": [
    "svm_rbf = SVC(kernel='rbf',gamma='auto').fit(X_train[features[11]].values.reshape(-1,1), y_train)\n",
    "y_predict = svm_rbf.predict(X_valid[features[11]].values.reshape(-1,1))\n",
    "predictions[22] =  \"SVM-Rbf Blur :\" + str(mean_squared_error(y_valid, y_predict, squared=False))\n",
    "predictions"
   ]
  },
  {
   "cell_type": "code",
   "execution_count": 29,
   "metadata": {},
   "outputs": [
    {
     "data": {
      "text/plain": [
       "{0: 'KNN Accessory :20.663197766451443',\n",
       " 1: 'KNN Blur :29.69356262374595',\n",
       " 2: 'KNN Subject Focus :26.815491129496937',\n",
       " 3: 'KNN ALL :33.97989206157266',\n",
       " 4: 'KNN Subject Focus, Accessory, Blur :31.588712765694464',\n",
       " 5: 'RandomForest ALL :22.632005242362474',\n",
       " 6: 'RandomForest Subject Focus :21.529190611518512',\n",
       " 7: 'RandomForest Accessories :22.26938264132633',\n",
       " 8: 'RandomForest Blur :21.852465351430805',\n",
       " 9: 'DecisionTree All :24.7573710105665',\n",
       " 10: 'DecisionTree Accessories :23.13664702336687',\n",
       " 11: 'DecisionTree Blur :21.852465351430805',\n",
       " 12: 'DecisionTree Subject Focus :21.529190611518512',\n",
       " 13: 'SVM-Linear Accessories :21.541735560714276',\n",
       " 14: 'SVM-Linear Blur :21.852465351430805',\n",
       " 15: 'SVM-Linear Subject Focus :21.529190611518512',\n",
       " 16: 'SVM-Poly ALL :22.738254678106927',\n",
       " 17: 'SVM-poly Accessories :23.13664702336687',\n",
       " 18: 'SVM-poly Blur :21.852465351430805',\n",
       " 19: 'SVM-poly Subject Focus :21.529190611518512',\n",
       " 20: 'SVM-Rbf ALL :22.441411174074393',\n",
       " 21: 'SVM-Rbf Accessories :23.13664702336687',\n",
       " 22: 'SVM-Rbf Blur :21.852465351430805',\n",
       " 23: 'SVM-Rbf Subject Focus :21.529190611518512'}"
      ]
     },
     "execution_count": 29,
     "metadata": {},
     "output_type": "execute_result"
    }
   ],
   "source": [
    "svm_rbf = SVC(kernel='rbf',gamma='auto').fit(X_train[features[0]].values.reshape(-1,1), y_train)\n",
    "y_predict = svm_rbf.predict(X_valid[features[0]].values.reshape(-1,1))\n",
    "predictions[23] =  \"SVM-Rbf Subject Focus :\" + str(mean_squared_error(y_valid, y_predict, squared=False))\n",
    "predictions"
   ]
  },
  {
   "cell_type": "code",
   "execution_count": 30,
   "metadata": {},
   "outputs": [],
   "source": [
    "#Now train the best models with Train and validation set and test with test set\n",
    "# and whole set\n",
    "\n",
    "# Seems like KNN with subject focus, accessories, is good, Random-forest and decision tree with \n",
    "# Subject focus, Blur and accessories, SVM is performing pretty average for all cases with special performance with accessories\n",
    "\n",
    "# Models performs well if tested with more data\n"
   ]
  },
  {
   "cell_type": "code",
   "execution_count": 66,
   "metadata": {},
   "outputs": [],
   "source": [
    "#Re initialize the the dataframe\n",
    "df = pd.read_csv(\"./Dataset/train.csv\")\n",
    "train_size = 0.95\n",
    "X = df.drop(columns = ['Pawpularity']).copy()\n",
    "y = df['Pawpularity']\n",
    "\n",
    "X_train, X_test, y_train, y_test = train_test_split(X,y, train_size=0.95, random_state=None)\n",
    "\n",
    "features = ['Subject Focus','Eyes','Face','Near','Action','Accessory', 'Group', 'Collage', 'Human', 'Occlusion', 'Info', 'Blur']\n",
    "\n"
   ]
  },
  {
   "cell_type": "code",
   "execution_count": 67,
   "metadata": {},
   "outputs": [
    {
     "data": {
      "text/plain": [
       "{0: 'KNN Accessory :26.47651881171497'}"
      ]
     },
     "execution_count": 67,
     "metadata": {},
     "output_type": "execute_result"
    }
   ],
   "source": [
    "predictions_final = {}\n",
    "\n",
    "classifier1 = KNeighborsClassifier(n_neighbors=8)\n",
    "classifier1.fit(X_train['Accessory'].values.reshape(-1,1), y_train)\n",
    "y_predict = classifier1.predict(X_test['Accessory'].values.reshape(-1,1))\n",
    "predictions_final[0] = \"KNN Accessory :\" + str(mean_squared_error(y_test, y_predict, squared=False))\n",
    "\n",
    "predictions_final"
   ]
  },
  {
   "cell_type": "code",
   "execution_count": 39,
   "metadata": {},
   "outputs": [
    {
     "data": {
      "text/plain": [
       "{0: 'KNN Accessory :26.79612393732564',\n",
       " 1: 'RandomForest Subject Focus :23.05008571812485',\n",
       " 2: 'RandomForest Accessories :23.05533315952676'}"
      ]
     },
     "execution_count": 39,
     "metadata": {},
     "output_type": "execute_result"
    }
   ],
   "source": [
    "clf.fit(X_train[features[0]].values.reshape(-1,1), y_train)\n",
    "y_predict = clf.predict(X_test[features[0]].values.reshape(-1,1))\n",
    "predictions_final[1] = \"RandomForest Subject Focus :\" + str(mean_squared_error(y_test, y_predict, squared=False))\n",
    "\n",
    "\n",
    "clf.fit(X_train[features[5]].values.reshape(-1,1), y_train)\n",
    "y_predict = clf.predict(X_test[features[5]].values.reshape(-1,1))\n",
    "predictions_final[2] = \"RandomForest Accessories :\" + str(mean_squared_error(y_test, y_predict, squared=False))\n",
    "\n",
    "\n",
    "predictions_final"
   ]
  },
  {
   "cell_type": "code",
   "execution_count": 40,
   "metadata": {},
   "outputs": [
    {
     "data": {
      "text/plain": [
       "{0: 'KNN Accessory :26.79612393732564',\n",
       " 1: 'RandomForest Subject Focus :23.05008571812485',\n",
       " 2: 'RandomForest Accessories :23.05533315952676',\n",
       " 11: 'DecisionTree Blur :23.298553187808924',\n",
       " 12: 'DecisionTree Subject Focus :23.05008571812485'}"
      ]
     },
     "execution_count": 40,
     "metadata": {},
     "output_type": "execute_result"
    }
   ],
   "source": [
    "dt_model = (DecisionTreeClassifier(criterion='entropy', random_state=0)\n",
    "            .fit(X_train[features[11]].values.reshape(-1,1), y_train))\n",
    "y_predict = dt_model.predict(X_test[features[11]].values.reshape(-1,1))\n",
    "predictions_final[11] =  \"DecisionTree Blur :\" + str(mean_squared_error(y_test, y_predict, squared=False))\n",
    "\n",
    "dt_model = (DecisionTreeClassifier(criterion='entropy', random_state=0)\n",
    "            .fit(X_train[features[0]].values.reshape(-1,1), y_train))\n",
    "y_predict = dt_model.predict(X_test[features[0]].values.reshape(-1,1))\n",
    "predictions_final[12] =  \"DecisionTree Subject Focus :\" + str(mean_squared_error(y_test, y_predict, squared=False))\n",
    "predictions_final\n"
   ]
  },
  {
   "cell_type": "code",
   "execution_count": 69,
   "metadata": {},
   "outputs": [],
   "source": [
    "# Seems like training with more data is not improving the modelso far. \n",
    "# Primary guess some data is not good\n",
    "# So, will try to split the data multiple time and test with a specific set \n",
    "# And try to get best results out of it. \n",
    "\n",
    "# As it has has been seen that KNN accessory, Random Forest, Decision tree & SVM with subject focus\n",
    "# Works better. So, previously mentioned steps will be done with this models\n",
    "\n",
    "df = pd.read_csv(\"./Dataset/train.csv\")\n",
    "# Fixed Test set with 1%\n",
    "X_train_fixed, X_test_fixed, y_train_fixed, y_test_fixed = train_test_split(X,y, train_size=0.99)\n",
    "features = ['Subject Focus','Eyes','Face','Near','Action','Accessory', 'Group', 'Collage', 'Human', 'Occlusion', 'Info', 'Blur']"
   ]
  },
  {
   "cell_type": "code",
   "execution_count": 75,
   "metadata": {},
   "outputs": [
    {
     "name": "stdout",
     "output_type": "stream",
     "text": [
      "neighbour :0Error: 19.923604091629606\n"
     ]
    }
   ],
   "source": [
    "# First go with KNN - Subject Focus\n",
    "\n",
    "def GetBestModelWithBestTrainUpData (targetErr):\n",
    "    # train size\n",
    "    size = 0.95\n",
    "    X = df.drop(columns = ['Pawpularity']).copy()\n",
    "    y = df['Pawpularity']\n",
    "    \n",
    "    #Optimize the nighbour size\n",
    "    for k in range(8):\n",
    "        classifier1 = KNeighborsClassifier(n_neighbors=k+1)\n",
    "        for i in range(1000):\n",
    "            X_train, X_test, y_train, y_test = train_test_split(X,y, train_size=size, random_state=None)\n",
    "            classifier1.fit(X_train[features[5]].values.reshape(-1,1), y_train)\n",
    "            y_predict = classifier1.predict(X_test_fixed[features[5]].values.reshape(-1,1))\n",
    "            if (mean_squared_error(y_test_fixed, y_predict, squared=False))<targetErr :\n",
    "                print (\"neighbour :\"+str(k) + \"Error: \" + str (mean_squared_error(y_test_fixed, y_predict, squared=False)))\n",
    "                return classifier1\n",
    "    \n",
    "    \n",
    "\n",
    "bestKnn = GetBestModelWithBestTrainUpData(20)\n",
    "\n",
    "#Target set 20\n",
    "#With 30% training data ..its failed\n",
    "#Trying with 60% data\n",
    "#With 60% of train data..still it fails\n",
    "# Setting the target to 22 and 60% data_train - Passed\n",
    "# Trying to lower it to 21 with 95% data train - Passed\n",
    "# Trying to lower it to 20 with 95% data train - Passed\n",
    "# Trying to lower it to 19.5 with 95% data train - Failed\n",
    "\n"
   ]
  },
  {
   "cell_type": "code",
   "execution_count": 97,
   "metadata": {},
   "outputs": [
    {
     "name": "stdout",
     "output_type": "stream",
     "text": [
      "depth :5 Error: 21.99568139431011\n"
     ]
    }
   ],
   "source": [
    "#Random Forest Subject Focus \n",
    "\n",
    "def GetBestModelWithBestTrainUpData (targetErr, features, isSingleFeature):\n",
    "    # train size\n",
    "    y_predict = []\n",
    "    size = 0.30\n",
    "    X = df.drop(columns = ['Pawpularity']).copy()\n",
    "    y = df['Pawpularity']\n",
    "    \n",
    "    classifier1 = RandomForestClassifier(max_depth= 5, random_state=None)\n",
    "    for i in range(100):\n",
    "        X_train, X_test, y_train, y_test = train_test_split(X,y, train_size=size, random_state=None)\n",
    "        if isSingleFeature:\n",
    "            classifier1.fit(X_train[features].values.reshape(-1,1), y_train)\n",
    "            y_predict = classifier1.predict(X_test_fixed[features].values.reshape(-1,1))\n",
    "        else:\n",
    "            classifier1.fit(X_train[features], y_train)\n",
    "            y_predict = classifier1.predict(X_test_fixed[features])\n",
    "\n",
    "        if (mean_squared_error(y_test_fixed, y_predict, squared=False))<targetErr :\n",
    "            print (\"depth :\"+str(5) + \" Error: \" + str (mean_squared_error(y_test_fixed, y_predict, squared=False)))\n",
    "            return classifier1\n",
    "            \n",
    "            \n"
   ]
  },
  {
   "cell_type": "code",
   "execution_count": 106,
   "metadata": {},
   "outputs": [
    {
     "name": "stdout",
     "output_type": "stream",
     "text": [
      "depth :5 Error: 21.647863635934147\n"
     ]
    }
   ],
   "source": [
    "#Subject focus only\n",
    "bestRandomForest = GetBestModelWithBestTrainUpData(21.78, features[0], True)"
   ]
  },
  {
   "cell_type": "code",
   "execution_count": 114,
   "metadata": {},
   "outputs": [
    {
     "name": "stdout",
     "output_type": "stream",
     "text": [
      "depth :5 Error: 21.955181620747297\n"
     ]
    }
   ],
   "source": [
    "bestRandomForestBlur = GetBestModelWithBestTrainUpData(22,features[11], True )"
   ]
  },
  {
   "cell_type": "code",
   "execution_count": 123,
   "metadata": {},
   "outputs": [
    {
     "name": "stdout",
     "output_type": "stream",
     "text": [
      "depth :5 Error: 21.72256890885606\n"
     ]
    }
   ],
   "source": [
    "bestRandomForestAll = GetBestModelWithBestTrainUpData(22,features, False )"
   ]
  },
  {
   "cell_type": "code",
   "execution_count": 124,
   "metadata": {},
   "outputs": [
    {
     "data": {
      "text/plain": [
       "array([ 42,  29, 100,  31,  26,  34,  30,  31], dtype=int64)"
      ]
     },
     "execution_count": 124,
     "metadata": {},
     "output_type": "execute_result"
    }
   ],
   "source": [
    "#Now tryout this three model with actual test data for submission\n",
    "df_test = pd.read_csv(\"./Dataset/test.csv\")\n",
    "\n",
    "#Predict with KNN\n",
    "knnRes = bestKnn.predict(df_test[features[5]].values.reshape(-1,1))\n",
    "\n",
    "#Predict with RandomForestSubjectFocus\n",
    "randomForestSubjectFocus = bestRandomForest.predict(df_test[features[0]].values.reshape(-1,1))\n",
    "\n",
    "#Predict with RandomForestBlur\n",
    "\n",
    "randomForestBlur = bestRandomForestBlur.predict(df_test[features[11]].values.reshape(-1,1))\n",
    "\n",
    "#Predict with RandomForestAll\n",
    "randomForestAll = bestRandomForestAll.predict(df_test[features])\n",
    "randomForestAll"
   ]
  },
  {
   "cell_type": "code",
   "execution_count": 125,
   "metadata": {},
   "outputs": [],
   "source": [
    "import pickle\n",
    "filename = './finalmodel_knn.sav'\n",
    "pickle.dump(bestKnn, open(filename,'wb'))"
   ]
  },
  {
   "cell_type": "code",
   "execution_count": 126,
   "metadata": {},
   "outputs": [],
   "source": [
    "filename = './finalmodel_random_sub.sav'\n",
    "pickle.dump(bestRandomForest, open(filename,'wb'))"
   ]
  },
  {
   "cell_type": "code",
   "execution_count": 127,
   "metadata": {},
   "outputs": [],
   "source": [
    "filename = './finalmodel_random_blur.sav'\n",
    "pickle.dump(bestRandomForestBlur, open(filename,'wb'))"
   ]
  },
  {
   "cell_type": "code",
   "execution_count": 128,
   "metadata": {},
   "outputs": [],
   "source": [
    "filename = './finalmodel_random_all.sav'\n",
    "pickle.dump(bestRandomForestAll, open(filename,'wb'))"
   ]
  },
  {
   "cell_type": "code",
   "execution_count": 130,
   "metadata": {},
   "outputs": [
    {
     "name": "stdout",
     "output_type": "stream",
     "text": [
      "[ 42  29 100  31  26  34  30  31]\n"
     ]
    }
   ],
   "source": [
    "# load the model from disk\n",
    "loaded_model = pickle.load(open(filename, 'rb'))\n",
    "result = loaded_model.predict(df_test[features])\n",
    "print(result)"
   ]
  },
  {
   "cell_type": "code",
   "execution_count": 131,
   "metadata": {},
   "outputs": [
    {
     "name": "stdout",
     "output_type": "stream",
     "text": [
      "[41 42 41 42 41 41 41 42]\n"
     ]
    }
   ],
   "source": [
    "loaded_model = pickle.load(open('./finalmodel_knn.sav', 'rb'))\n",
    "result = loaded_model.predict(df_test[features[5]].values.reshape(-1,1))\n",
    "print(result)"
   ]
  }
 ],
 "metadata": {
  "kernelspec": {
   "display_name": "Python 3",
   "language": "python",
   "name": "python3"
  },
  "language_info": {
   "codemirror_mode": {
    "name": "ipython",
    "version": 3
   },
   "file_extension": ".py",
   "mimetype": "text/x-python",
   "name": "python",
   "nbconvert_exporter": "python",
   "pygments_lexer": "ipython3",
   "version": "3.8.5"
  }
 },
 "nbformat": 4,
 "nbformat_minor": 4
}
