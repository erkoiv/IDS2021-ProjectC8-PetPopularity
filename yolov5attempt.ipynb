{
  "nbformat": 4,
  "nbformat_minor": 0,
  "metadata": {
    "colab": {
      "name": "yolov5attempt.ipynb",
      "provenance": [],
      "collapsed_sections": [],
      "mount_file_id": "1J1ta5cazU8WYuV2Cv9aa9ndZLoBlDnxK",
      "authorship_tag": "ABX9TyPKs7NR2Z8jaxEEdrpzgaDr",
      "include_colab_link": true
    },
    "kernelspec": {
      "name": "python3",
      "display_name": "Python 3"
    },
    "language_info": {
      "name": "python"
    }
  },
  "cells": [
    {
      "cell_type": "markdown",
      "metadata": {
        "id": "view-in-github",
        "colab_type": "text"
      },
      "source": [
        "<a href=\"https://colab.research.google.com/github/erkoiv/IDS2021-ProjectC8-PetPopularity/blob/main/yolov5attempt.ipynb\" target=\"_parent\"><img src=\"https://colab.research.google.com/assets/colab-badge.svg\" alt=\"Open In Colab\"/></a>"
      ]
    },
    {
      "cell_type": "code",
      "metadata": {
        "id": "challenging-rover"
      },
      "source": [
        "!pip install -r /content/drive/MyDrive/Yolov5/IDS2021-ProjectC8-PetPopularity/yolov5/requirements.txt"
      ],
      "execution_count": null,
      "outputs": []
    },
    {
      "cell_type": "code",
      "metadata": {
        "id": "Tr2FxpGZFlH7",
        "colab": {
          "base_uri": "https://localhost:8080/"
        },
        "outputId": "8c2f293f-5187-4544-e0c1-81b975ef19c6"
      },
      "source": [
        "!pip install wandb"
      ],
      "execution_count": null,
      "outputs": [
        {
          "output_type": "stream",
          "name": "stdout",
          "text": [
            "Collecting wandb\n",
            "^C\n",
            "\u001b[31mERROR: Operation cancelled by user\u001b[0m\n"
          ]
        }
      ]
    },
    {
      "cell_type": "code",
      "metadata": {
        "id": "peh0JdNjFsJd",
        "colab": {
          "base_uri": "https://localhost:8080/"
        },
        "outputId": "a8211e65-1652-42a2-b513-8c0e7bd17d0e"
      },
      "source": [
        "from os import listdir\n",
        "import random\n",
        "import shutil\n",
        "\n",
        "train = listdir(\"/content/drive/MyDrive/Yolov5/IDS2021-ProjectC8-PetPopularity/datasets/pet0-10/images/train\")\n",
        "val = listdir(\"/content/drive/MyDrive/Yolov5/IDS2021-ProjectC8-PetPopularity/datasets/pet0-10/images/val\")\n",
        "test = listdir(\"/content/drive/MyDrive/Yolov5/IDS2021-ProjectC8-PetPopularity/datasets/pet0-10/images/test\")\n",
        "trainNr = len(train)\n",
        "valNr = len(val)\n",
        "testNr = len(test)\n",
        "print(trainNr, valNr, testNr)"
      ],
      "execution_count": null,
      "outputs": [
        {
          "output_type": "stream",
          "name": "stdout",
          "text": [
            "6938 1983 991\n"
          ]
        }
      ]
    },
    {
      "cell_type": "code",
      "metadata": {
        "id": "H8yxJsOSJI2n"
      },
      "source": [
        "#Labeling from 0-10 popularity score since 100 labels would be too much\n",
        "import pandas as pd\n",
        "\n",
        "df = pd.read_csv(\"/content/drive/MyDrive/Yolov5/IDS2021-ProjectC8-PetPopularity/datasets/train.csv\")\n",
        "xywh = \" 0.5 0.5 1.0 1.0\"\n",
        "for i in range(df.shape[0]):\n",
        "  df['Pawpularity'][i] = round(df['Pawpularity'][i]/10)\n",
        "labels = df.Pawpularity.unique()\n",
        "labels.sort()\n",
        "\n",
        "listlist = [train, val, test]\n",
        "\n",
        "run = 0\n",
        "for i in listlist:\n",
        "  if run == 0:\n",
        "    foldname = \"train\"\n",
        "  elif run == 1:\n",
        "    foldname = \"val\"\n",
        "  else:\n",
        "    foldname = \"test\"\n",
        "  print(\"Labelling {}\".format(foldname))\n",
        "  for filename in i:\n",
        "    filename = filename[:-4]\n",
        "\n",
        "    f = open(\"/content/drive/MyDrive/Yolov5/IDS2021-ProjectC8-PetPopularity/datasets/pet0-10/labels/\"+foldname+\"/\"+filename+\".txt\", \"w+\")\n",
        "    f.write(str(df.loc[df.Id == filename][\"Pawpularity\"].values[0])+xywh)\n",
        "    f.close()\n",
        "    #print(filename)\n",
        "  run+=1"
      ],
      "execution_count": null,
      "outputs": []
    },
    {
      "cell_type": "code",
      "metadata": {
        "id": "KnvL6XAfd-P1"
      },
      "source": [
        "import cv2 as cv\n",
        "\n",
        "run = 0\n",
        "for i in listlist:\n",
        "  if run == 0:\n",
        "    foldname = \"train\"\n",
        "  elif run == 1:\n",
        "    foldname = \"val\"\n",
        "  else:\n",
        "    foldname = \"test\"\n",
        "    print(foldname)\n",
        "\n",
        "  for filename in i:\n",
        "    path = '/content/drive/MyDrive/Yolov5/IDS2021-ProjectC8-PetPopularity/datasets/pet0-10/images/'+foldname+\"/\"+filename\n",
        "    img = cv.imread(path)\n",
        "    img = cv.resize(img, (640, 640), interpolation = cv.INTER_AREA)\n",
        "    cv.imwrite(path, img)\n",
        "  run+=1"
      ],
      "execution_count": null,
      "outputs": []
    },
    {
      "cell_type": "code",
      "metadata": {
        "id": "p1OUbLG23qux"
      },
      "source": [
        "import os\n",
        "\n",
        "delTrain = int(trainNr*0.2)\n",
        "delVal = int(valNr*0.2)\n",
        "delTest = int(testNr*0.2)\n",
        "\n",
        "for i in listlist:\n",
        "  if run == 0:\n",
        "    foldname = \"train\"\n",
        "    nr = delTrain\n",
        "  elif run == 1:\n",
        "    foldname = \"val\"\n",
        "    nr = delVal\n",
        "  else:\n",
        "    foldname = \"test\"\n",
        "    nr = delTest\n",
        "\n",
        "  for j in range(nr):\n",
        "    filename = i[j]\n",
        "    path = '/content/drive/MyDrive/Yolov5/IDS2021-ProjectC8-PetPopularity/datasets/pet0-10/images/'+foldname+\"/\"+filename\n",
        "    os.remove(path)\n",
        "  run+=1"
      ],
      "execution_count": null,
      "outputs": []
    },
    {
      "cell_type": "code",
      "metadata": {
        "id": "-VzOnjsq5Hue"
      },
      "source": [
        "!cp -r /content/drive/MyDrive/Yolov5/IDS2021-ProjectC8-PetPopularity/datasets/pet0-10 /content/drive/MyDrive/Yolov5/IDS2021-ProjectC8-PetPopularity/datasets/backup"
      ],
      "execution_count": null,
      "outputs": []
    },
    {
      "cell_type": "code",
      "metadata": {
        "id": "dRzVRkAAnruM"
      },
      "source": [
        "%load_ext tensorboard\n",
        "%tensorboard --logdir runs/train"
      ],
      "execution_count": null,
      "outputs": []
    },
    {
      "cell_type": "code",
      "metadata": {
        "id": "QYxtOkFVpH8M"
      },
      "source": [
        "import wandb\n",
        "#wandb.login()"
      ],
      "execution_count": null,
      "outputs": []
    },
    {
      "cell_type": "code",
      "metadata": {
        "colab": {
          "base_uri": "https://localhost:8080/"
        },
        "id": "C4PKaOpZo6my",
        "outputId": "5a69c49d-885d-431a-ca29-452b382880ff"
      },
      "source": [
        "wandb.login()"
      ],
      "execution_count": null,
      "outputs": [
        {
          "output_type": "stream",
          "name": "stderr",
          "text": [
            "wandb: You can find your API key in your browser here: https://wandb.ai/authorize\n"
          ]
        },
        {
          "name": "stdout",
          "output_type": "stream",
          "text": [
            "\u001b[34m\u001b[1mwandb\u001b[0m: Paste an API key from your profile and hit enter, or press ctrl+c to quit: ··········\n"
          ]
        },
        {
          "output_type": "stream",
          "name": "stderr",
          "text": [
            "wandb: Appending key for api.wandb.ai to your netrc file: /home/erkoiv/.netrc\n"
          ]
        },
        {
          "output_type": "execute_result",
          "data": {
            "text/plain": [
              "True"
            ]
          },
          "metadata": {},
          "execution_count": 2
        }
      ]
    },
    {
      "cell_type": "code",
      "metadata": {
        "id": "aQtUAdQYQq_Z"
      },
      "source": [
        "#python /content/drive/MyDrive/Yolov5/IDS2021-ProjectC8-PetPopularity/yolov5/train.py --img 640 --batch 128 --epochs 8 --data pet.yaml --weights yolov5s.pt\n",
        "!python3 /mnt/c/Users/Erik/Desktop/IDS2021-ProjectC8-PetPopularity/yolov5/train.py --img 640 --batch 128 --epochs 8 --data pet.yaml --weights yolov5s.pt\n"
      ],
      "execution_count": null,
      "outputs": []
    },
    {
      "cell_type": "code",
      "metadata": {
        "id": "a--IKOmjqIOU"
      },
      "source": [
        ""
      ],
      "execution_count": null,
      "outputs": []
    }
  ]
}